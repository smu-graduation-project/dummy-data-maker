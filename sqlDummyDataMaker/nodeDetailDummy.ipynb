{
 "cells": [
  {
   "cell_type": "markdown",
   "id": "1aa590f8",
   "metadata": {},
   "source": [
    "이전 노드 데이터 쿼리 랜덤 생성기"
   ]
  },
  {
   "cell_type": "code",
   "execution_count": 1,
   "id": "2e0d6623",
   "metadata": {},
   "outputs": [],
   "source": [
    "import datetime\n",
    "import random"
   ]
  },
  {
   "cell_type": "code",
   "execution_count": 2,
   "id": "59b737f8",
   "metadata": {},
   "outputs": [],
   "source": [
    "TABLENAME = \"detailDummy\""
   ]
  },
  {
   "cell_type": "code",
   "execution_count": 3,
   "id": "bd8b8597",
   "metadata": {
    "scrolled": true
   },
   "outputs": [],
   "source": [
    "date = datetime.datetime(2022,1,1)\n",
    "query = \"INSERT INTO {tableName}(date, maxTemperature, minTemperature, averageTemperature) values ('{date}', {maxTemperature}, {minTemperature}, {averageTemperature});\""
   ]
  },
  {
   "cell_type": "code",
   "execution_count": 4,
   "id": "479977ef",
   "metadata": {},
   "outputs": [
    {
     "name": "stdout",
     "output_type": "stream",
     "text": [
      "2022-01-01 00:00:00\n",
      "2022-03-30 12:51:46.177084\n"
     ]
    }
   ],
   "source": [
    "print(date)\n",
    "print(datetime.datetime.now())"
   ]
  },
  {
   "cell_type": "code",
   "execution_count": 5,
   "id": "f46d11c2",
   "metadata": {},
   "outputs": [
    {
     "name": "stdout",
     "output_type": "stream",
     "text": [
      "INSERT INTO detailDummy(date, maxTemperature, minTemperature, averageTemperature) values ('2022-01-01', 14.092556030219868, 4.134131420048255, 5.839526939250344);\n",
      "INSERT INTO detailDummy(date, maxTemperature, minTemperature, averageTemperature) values ('2022-01-02', 14.303337252081826, 4.315584155562606, 5.323831810596118);\n",
      "INSERT INTO detailDummy(date, maxTemperature, minTemperature, averageTemperature) values ('2022-01-03', 14.038988563826685, 4.42697171637792, 6.164297351117995);\n",
      "INSERT INTO detailDummy(date, maxTemperature, minTemperature, averageTemperature) values ('2022-01-04', 7.605513398947307, 4.475800470194818, 5.790924094708138);\n",
      "INSERT INTO detailDummy(date, maxTemperature, minTemperature, averageTemperature) values ('2022-01-05', 11.41930658265986, 4.383898579971115, 6.22664547150314);\n",
      "INSERT INTO detailDummy(date, maxTemperature, minTemperature, averageTemperature) values ('2022-01-06', 15.244428066701651, 4.591342386766404, 5.9260781101504385);\n",
      "INSERT INTO detailDummy(date, maxTemperature, minTemperature, averageTemperature) values ('2022-01-07', 14.341832784771453, 4.52581746666791, 6.357480770301564);\n",
      "INSERT INTO detailDummy(date, maxTemperature, minTemperature, averageTemperature) values ('2022-01-08', 11.097709948262862, 4.464999268009714, 5.679391322870167);\n",
      "INSERT INTO detailDummy(date, maxTemperature, minTemperature, averageTemperature) values ('2022-01-09', 15.624032704112478, 4.807466187949306, 6.622286196086717);\n",
      "INSERT INTO detailDummy(date, maxTemperature, minTemperature, averageTemperature) values ('2022-01-10', 11.95090752912349, 4.177675741520094, 5.5908719670800995);\n",
      "INSERT INTO detailDummy(date, maxTemperature, minTemperature, averageTemperature) values ('2022-01-11', 12.360144242250097, 4.039214175194979, 5.792944681399883);\n",
      "INSERT INTO detailDummy(date, maxTemperature, minTemperature, averageTemperature) values ('2022-01-12', 12.210090461464862, 4.768350578371411, 6.74477014745879);\n",
      "INSERT INTO detailDummy(date, maxTemperature, minTemperature, averageTemperature) values ('2022-01-13', 10.444926185996993, 4.161716121906477, 5.637031131422792);\n",
      "INSERT INTO detailDummy(date, maxTemperature, minTemperature, averageTemperature) values ('2022-01-14', 14.320729639622325, 4.337828580352421, 5.786737169902428);\n",
      "INSERT INTO detailDummy(date, maxTemperature, minTemperature, averageTemperature) values ('2022-01-15', 8.905855777988592, 4.79294383883974, 6.197939144085716);\n",
      "INSERT INTO detailDummy(date, maxTemperature, minTemperature, averageTemperature) values ('2022-01-16', 15.743854212312538, 4.726805422452678, 6.463253455874289);\n",
      "INSERT INTO detailDummy(date, maxTemperature, minTemperature, averageTemperature) values ('2022-01-17', 9.833359566088307, 4.841586309215256, 6.737071102576244);\n",
      "INSERT INTO detailDummy(date, maxTemperature, minTemperature, averageTemperature) values ('2022-01-18', 10.053515165581533, 4.979444566517271, 6.684752343793072);\n",
      "INSERT INTO detailDummy(date, maxTemperature, minTemperature, averageTemperature) values ('2022-01-19', 8.157689265969939, 4.6864611388904995, 6.225758917057814);\n",
      "INSERT INTO detailDummy(date, maxTemperature, minTemperature, averageTemperature) values ('2022-01-20', 11.699621241547923, 4.29936349459818, 5.623329553673143);\n",
      "INSERT INTO detailDummy(date, maxTemperature, minTemperature, averageTemperature) values ('2022-01-21', 12.171420148939553, 4.892927991292914, 6.547509684923369);\n",
      "INSERT INTO detailDummy(date, maxTemperature, minTemperature, averageTemperature) values ('2022-01-22', 9.044344035002151, 4.38759413042527, 5.551650626351371);\n",
      "INSERT INTO detailDummy(date, maxTemperature, minTemperature, averageTemperature) values ('2022-01-23', 11.184302859136395, 4.217439022695321, 6.167254011428872);\n",
      "INSERT INTO detailDummy(date, maxTemperature, minTemperature, averageTemperature) values ('2022-01-24', 9.330298111799962, 4.003246632416056, 5.655683386667134);\n",
      "INSERT INTO detailDummy(date, maxTemperature, minTemperature, averageTemperature) values ('2022-01-25', 11.596585550430891, 4.355402830799105, 5.880411211906587);\n",
      "INSERT INTO detailDummy(date, maxTemperature, minTemperature, averageTemperature) values ('2022-01-26', 10.523792386712367, 4.915399129365717, 6.336352360087931);\n",
      "INSERT INTO detailDummy(date, maxTemperature, minTemperature, averageTemperature) values ('2022-01-27', 15.262606368116849, 4.90308705576946, 6.896642461845832);\n",
      "INSERT INTO detailDummy(date, maxTemperature, minTemperature, averageTemperature) values ('2022-01-28', 15.628696121925556, 4.377935806988083, 6.129886532649195);\n",
      "INSERT INTO detailDummy(date, maxTemperature, minTemperature, averageTemperature) values ('2022-01-29', 11.131121908607783, 4.790640066704149, 6.046277479297917);\n",
      "INSERT INTO detailDummy(date, maxTemperature, minTemperature, averageTemperature) values ('2022-01-30', 10.905861347428008, 4.339658424459422, 6.142389961660285);\n",
      "INSERT INTO detailDummy(date, maxTemperature, minTemperature, averageTemperature) values ('2022-01-31', 11.819450853283001, 4.2268544535905965, 5.338301864998582);\n",
      "INSERT INTO detailDummy(date, maxTemperature, minTemperature, averageTemperature) values ('2022-02-01', 9.261202787677835, 4.201659530244883, 5.379697343974707);\n",
      "INSERT INTO detailDummy(date, maxTemperature, minTemperature, averageTemperature) values ('2022-02-02', 13.753755622582844, 4.851736214965213, 6.616562694485031);\n",
      "INSERT INTO detailDummy(date, maxTemperature, minTemperature, averageTemperature) values ('2022-02-03', 10.136781249970046, 4.677814011661007, 5.759878283232034);\n",
      "INSERT INTO detailDummy(date, maxTemperature, minTemperature, averageTemperature) values ('2022-02-04', 13.046638609020704, 4.4944394502689, 6.468492301578783);\n",
      "INSERT INTO detailDummy(date, maxTemperature, minTemperature, averageTemperature) values ('2022-02-05', 13.780836719691283, 4.800812604108211, 6.4718761671006915);\n",
      "INSERT INTO detailDummy(date, maxTemperature, minTemperature, averageTemperature) values ('2022-02-06', 10.170359144177183, 4.005322800945388, 5.024427634502176);\n",
      "INSERT INTO detailDummy(date, maxTemperature, minTemperature, averageTemperature) values ('2022-02-07', 6.736640487831689, 4.48468351609964, 5.62376974898602);\n",
      "INSERT INTO detailDummy(date, maxTemperature, minTemperature, averageTemperature) values ('2022-02-08', 9.68767675806274, 4.804967392913391, 6.072007007051384);\n",
      "INSERT INTO detailDummy(date, maxTemperature, minTemperature, averageTemperature) values ('2022-02-09', 8.783748915587147, 4.681708964546637, 6.355080457737518);\n",
      "INSERT INTO detailDummy(date, maxTemperature, minTemperature, averageTemperature) values ('2022-02-10', 8.676019991727582, 4.68931521874885, 5.782408404669793);\n",
      "INSERT INTO detailDummy(date, maxTemperature, minTemperature, averageTemperature) values ('2022-02-11', 11.368635070765041, 4.801390227076025, 6.795756126110999);\n",
      "INSERT INTO detailDummy(date, maxTemperature, minTemperature, averageTemperature) values ('2022-02-12', 12.352280860038707, 4.698340394727159, 5.87985745390865);\n",
      "INSERT INTO detailDummy(date, maxTemperature, minTemperature, averageTemperature) values ('2022-02-13', 11.931368462742157, 4.065695482467736, 6.000261756891266);\n",
      "INSERT INTO detailDummy(date, maxTemperature, minTemperature, averageTemperature) values ('2022-02-14', 8.94196637628512, 4.027014212665243, 5.282183243799036);\n",
      "INSERT INTO detailDummy(date, maxTemperature, minTemperature, averageTemperature) values ('2022-02-15', 12.309899398893538, 4.455809350073363, 6.083516182562875);\n",
      "INSERT INTO detailDummy(date, maxTemperature, minTemperature, averageTemperature) values ('2022-02-16', 10.818425707129359, 4.883876302520452, 6.6140615020989415);\n",
      "INSERT INTO detailDummy(date, maxTemperature, minTemperature, averageTemperature) values ('2022-02-17', 14.584656058225715, 4.892189417042502, 6.078730636319466);\n",
      "INSERT INTO detailDummy(date, maxTemperature, minTemperature, averageTemperature) values ('2022-02-18', 14.702800288015041, 4.239876676886643, 6.18554507887077);\n",
      "INSERT INTO detailDummy(date, maxTemperature, minTemperature, averageTemperature) values ('2022-02-19', 9.826990892247412, 4.048621439034731, 5.066509281346052);\n",
      "INSERT INTO detailDummy(date, maxTemperature, minTemperature, averageTemperature) values ('2022-02-20', 7.843259799730479, 4.569350543145716, 5.9378394267390195);\n",
      "INSERT INTO detailDummy(date, maxTemperature, minTemperature, averageTemperature) values ('2022-02-21', 11.853836755565435, 4.803410458390935, 6.1883490266297105);\n",
      "INSERT INTO detailDummy(date, maxTemperature, minTemperature, averageTemperature) values ('2022-02-22', 12.432698748595595, 4.7564688263281125, 6.408709474504967);\n",
      "INSERT INTO detailDummy(date, maxTemperature, minTemperature, averageTemperature) values ('2022-02-23', 7.126457633486736, 4.019851673734551, 5.483616810730672);\n",
      "INSERT INTO detailDummy(date, maxTemperature, minTemperature, averageTemperature) values ('2022-02-24', 13.810117039168611, 4.14715473468086, 6.113757794893584);\n",
      "INSERT INTO detailDummy(date, maxTemperature, minTemperature, averageTemperature) values ('2022-02-25', 9.76671627973138, 4.68967321094999, 6.5378689583823295);\n",
      "INSERT INTO detailDummy(date, maxTemperature, minTemperature, averageTemperature) values ('2022-02-26', 15.996722320140119, 4.686576053952906, 6.605929432561969);\n",
      "INSERT INTO detailDummy(date, maxTemperature, minTemperature, averageTemperature) values ('2022-02-27', 14.687587239960298, 4.559239062958701, 5.586591207570006);\n",
      "INSERT INTO detailDummy(date, maxTemperature, minTemperature, averageTemperature) values ('2022-02-28', 15.16152360377326, 4.170318295556864, 5.990071305550737);\n",
      "INSERT INTO detailDummy(date, maxTemperature, minTemperature, averageTemperature) values ('2022-03-01', 10.806382073602345, 4.458078447641935, 5.483445935574231);\n",
      "INSERT INTO detailDummy(date, maxTemperature, minTemperature, averageTemperature) values ('2022-03-02', 8.563848200216153, 4.206973983381998, 5.958362184998491);\n",
      "INSERT INTO detailDummy(date, maxTemperature, minTemperature, averageTemperature) values ('2022-03-03', 11.337169673443118, 4.723614216435166, 6.658362483106736);\n",
      "INSERT INTO detailDummy(date, maxTemperature, minTemperature, averageTemperature) values ('2022-03-04', 7.115573166532872, 4.690568964252344, 6.059161811628263);\n",
      "INSERT INTO detailDummy(date, maxTemperature, minTemperature, averageTemperature) values ('2022-03-05', 7.653130737076058, 4.929435769262752, 6.052707274933407);\n",
      "INSERT INTO detailDummy(date, maxTemperature, minTemperature, averageTemperature) values ('2022-03-06', 11.364981234166816, 4.072849641670976, 5.973626493993347);\n",
      "INSERT INTO detailDummy(date, maxTemperature, minTemperature, averageTemperature) values ('2022-03-07', 12.342860067469722, 4.630406061422051, 6.086501989110589);\n",
      "INSERT INTO detailDummy(date, maxTemperature, minTemperature, averageTemperature) values ('2022-03-08', 8.129388129875611, 4.018325023334649, 5.678030539199915);\n",
      "INSERT INTO detailDummy(date, maxTemperature, minTemperature, averageTemperature) values ('2022-03-09', 10.624759908704643, 4.3103896280081795, 5.989108358829164);\n",
      "INSERT INTO detailDummy(date, maxTemperature, minTemperature, averageTemperature) values ('2022-03-10', 8.08602097375342, 4.313728549419661, 5.990204703038058);\n",
      "INSERT INTO detailDummy(date, maxTemperature, minTemperature, averageTemperature) values ('2022-03-11', 14.09245538396598, 4.08446755669871, 5.273142487510826);\n",
      "INSERT INTO detailDummy(date, maxTemperature, minTemperature, averageTemperature) values ('2022-03-12', 12.113540078205794, 4.307992179960496, 5.52424306243539);\n",
      "INSERT INTO detailDummy(date, maxTemperature, minTemperature, averageTemperature) values ('2022-03-13', 10.369465590441441, 4.338766738872703, 6.021977411303258);\n",
      "INSERT INTO detailDummy(date, maxTemperature, minTemperature, averageTemperature) values ('2022-03-14', 9.239238304920384, 4.531984160727752, 5.858361034603163);\n",
      "INSERT INTO detailDummy(date, maxTemperature, minTemperature, averageTemperature) values ('2022-03-15', 8.241905157341293, 4.255785748866105, 5.568379760230389);\n",
      "INSERT INTO detailDummy(date, maxTemperature, minTemperature, averageTemperature) values ('2022-03-16', 10.39907895803878, 4.063482682977253, 5.180017938914829);\n",
      "INSERT INTO detailDummy(date, maxTemperature, minTemperature, averageTemperature) values ('2022-03-17', 12.102196270181441, 4.6091751602107776, 6.138144484678701);\n",
      "INSERT INTO detailDummy(date, maxTemperature, minTemperature, averageTemperature) values ('2022-03-18', 7.554366351827224, 4.681645749781999, 6.17946159313655);\n",
      "INSERT INTO detailDummy(date, maxTemperature, minTemperature, averageTemperature) values ('2022-03-19', 8.037909287170132, 4.996173804020749, 6.13367033955959);\n",
      "INSERT INTO detailDummy(date, maxTemperature, minTemperature, averageTemperature) values ('2022-03-20', 11.809239017147426, 4.011069917391361, 5.277298559412617);\n",
      "INSERT INTO detailDummy(date, maxTemperature, minTemperature, averageTemperature) values ('2022-03-21', 10.980711456616513, 4.2201069321068125, 6.195764820445367);\n",
      "INSERT INTO detailDummy(date, maxTemperature, minTemperature, averageTemperature) values ('2022-03-22', 10.559547779495684, 4.327243890478888, 5.754035390184628);\n",
      "INSERT INTO detailDummy(date, maxTemperature, minTemperature, averageTemperature) values ('2022-03-23', 11.10348195075534, 4.221729327311974, 5.586896778395651);\n",
      "INSERT INTO detailDummy(date, maxTemperature, minTemperature, averageTemperature) values ('2022-03-24', 9.826084384572214, 4.275323778430233, 5.903625696792421);\n",
      "INSERT INTO detailDummy(date, maxTemperature, minTemperature, averageTemperature) values ('2022-03-25', 15.47535826126785, 4.838229258823034, 6.017651911678085);\n",
      "INSERT INTO detailDummy(date, maxTemperature, minTemperature, averageTemperature) values ('2022-03-26', 15.769069226922358, 4.931213692616731, 6.285892181782728);\n",
      "INSERT INTO detailDummy(date, maxTemperature, minTemperature, averageTemperature) values ('2022-03-27', 11.313729197043859, 4.801684634298328, 5.8162233436038315);\n",
      "INSERT INTO detailDummy(date, maxTemperature, minTemperature, averageTemperature) values ('2022-03-28', 12.092670402212764, 4.982598385580802, 6.42638332000192);\n",
      "INSERT INTO detailDummy(date, maxTemperature, minTemperature, averageTemperature) values ('2022-03-29', 13.396823862201156, 4.914441239344509, 6.61855253776557);\n"
     ]
    }
   ],
   "source": [
    "while(True):\n",
    "    minTemperature = random.uniform(4, 5)\n",
    "    averageTemperature = random.uniform(1, 2) + minTemperature\n",
    "    maxTemperature = random.uniform(1, 10) + averageTemperature\n",
    "    \n",
    "    print(query.format(tableName = TABLENAME,\n",
    "                       date = date.strftime(\"%Y-%m-%d\"), \n",
    "                       maxTemperature = maxTemperature, \n",
    "                       minTemperature = minTemperature, \n",
    "                       averageTemperature = averageTemperature))\n",
    "    \n",
    "    date += datetime.timedelta(days=1)\n",
    "    if(date.strftime(\"%Y-%m-%d\") == datetime.datetime.now().strftime(\"%Y-%m-%d\")):\n",
    "        date = datetime.datetime(2022,1,1)\n",
    "        break"
   ]
  }
 ],
 "metadata": {
  "kernelspec": {
   "display_name": "base",
   "language": "python",
   "name": "base"
  },
  "language_info": {
   "codemirror_mode": {
    "name": "ipython",
    "version": 3
   },
   "file_extension": ".py",
   "mimetype": "text/x-python",
   "name": "python",
   "nbconvert_exporter": "python",
   "pygments_lexer": "ipython3",
   "version": "3.9.4"
  }
 },
 "nbformat": 4,
 "nbformat_minor": 5
}
