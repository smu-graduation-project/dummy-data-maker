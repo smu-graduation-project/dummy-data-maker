{
 "cells": [
  {
   "cell_type": "markdown",
   "id": "1aa590f8",
   "metadata": {},
   "source": [
    "이전 노드 데이터 쿼리 랜덤 생성기"
   ]
  },
  {
   "cell_type": "code",
   "execution_count": 10,
   "id": "2e0d6623",
   "metadata": {},
   "outputs": [],
   "source": [
    "import datetime\n",
    "import random"
   ]
  },
  {
   "cell_type": "code",
   "execution_count": 11,
   "id": "59b737f8",
   "metadata": {},
   "outputs": [],
   "source": [
    "TABLENAME = \"temperature_data\""
   ]
  },
  {
   "cell_type": "code",
   "execution_count": 12,
   "id": "bd8b8597",
   "metadata": {
    "scrolled": true
   },
   "outputs": [],
   "source": [
    "date = datetime.datetime(2022,1,1)\n",
    "query = \"INSERT INTO {tableName}(date, max_temperature, min_temperature, average_temperature) values ('{date}', {maxTemperature}, {minTemperature}, {averageTemperature});\""
   ]
  },
  {
   "cell_type": "code",
   "execution_count": 13,
   "id": "479977ef",
   "metadata": {},
   "outputs": [
    {
     "name": "stdout",
     "output_type": "stream",
     "text": [
      "2022-01-01 00:00:00\n",
      "2022-04-05 17:27:05.356245\n"
     ]
    }
   ],
   "source": [
    "print(date)\n",
    "print(datetime.datetime.now())"
   ]
  },
  {
   "cell_type": "code",
   "execution_count": 14,
   "id": "f46d11c2",
   "metadata": {},
   "outputs": [
    {
     "name": "stdout",
     "output_type": "stream",
     "text": [
      "INSERT INTO temperature_data(date, max_temperature, min_temperature, average_temperature) values ('2022-01-01', 7.63, 4.03, 5.66);\n",
      "INSERT INTO temperature_data(date, max_temperature, min_temperature, average_temperature) values ('2022-01-02', 8.82, 4.84, 6.52);\n",
      "INSERT INTO temperature_data(date, max_temperature, min_temperature, average_temperature) values ('2022-01-03', 15.22, 4.24, 5.46);\n",
      "INSERT INTO temperature_data(date, max_temperature, min_temperature, average_temperature) values ('2022-01-04', 12.71, 4.95, 6.25);\n",
      "INSERT INTO temperature_data(date, max_temperature, min_temperature, average_temperature) values ('2022-01-05', 15.51, 4.21, 6.15);\n",
      "INSERT INTO temperature_data(date, max_temperature, min_temperature, average_temperature) values ('2022-01-06', 10.9, 4.76, 5.89);\n",
      "INSERT INTO temperature_data(date, max_temperature, min_temperature, average_temperature) values ('2022-01-07', 9.2, 4.29, 5.65);\n",
      "INSERT INTO temperature_data(date, max_temperature, min_temperature, average_temperature) values ('2022-01-08', 7.27, 4.52, 5.87);\n",
      "INSERT INTO temperature_data(date, max_temperature, min_temperature, average_temperature) values ('2022-01-09', 9.86, 4.84, 6.58);\n",
      "INSERT INTO temperature_data(date, max_temperature, min_temperature, average_temperature) values ('2022-01-10', 12.19, 4.86, 6.48);\n",
      "INSERT INTO temperature_data(date, max_temperature, min_temperature, average_temperature) values ('2022-01-11', 15.0, 4.61, 6.04);\n",
      "INSERT INTO temperature_data(date, max_temperature, min_temperature, average_temperature) values ('2022-01-12', 10.78, 4.85, 6.0);\n",
      "INSERT INTO temperature_data(date, max_temperature, min_temperature, average_temperature) values ('2022-01-13', 11.62, 4.84, 6.69);\n",
      "INSERT INTO temperature_data(date, max_temperature, min_temperature, average_temperature) values ('2022-01-14', 11.72, 4.34, 5.58);\n",
      "INSERT INTO temperature_data(date, max_temperature, min_temperature, average_temperature) values ('2022-01-15', 10.07, 4.31, 5.33);\n",
      "INSERT INTO temperature_data(date, max_temperature, min_temperature, average_temperature) values ('2022-01-16', 8.13, 4.44, 6.02);\n",
      "INSERT INTO temperature_data(date, max_temperature, min_temperature, average_temperature) values ('2022-01-17', 13.3, 4.38, 6.25);\n",
      "INSERT INTO temperature_data(date, max_temperature, min_temperature, average_temperature) values ('2022-01-18', 12.5, 4.6, 5.7);\n",
      "INSERT INTO temperature_data(date, max_temperature, min_temperature, average_temperature) values ('2022-01-19', 11.16, 4.03, 5.95);\n",
      "INSERT INTO temperature_data(date, max_temperature, min_temperature, average_temperature) values ('2022-01-20', 11.77, 4.21, 5.63);\n",
      "INSERT INTO temperature_data(date, max_temperature, min_temperature, average_temperature) values ('2022-01-21', 14.96, 4.22, 5.95);\n",
      "INSERT INTO temperature_data(date, max_temperature, min_temperature, average_temperature) values ('2022-01-22', 8.3, 4.9, 6.77);\n",
      "INSERT INTO temperature_data(date, max_temperature, min_temperature, average_temperature) values ('2022-01-23', 11.6, 4.25, 5.47);\n",
      "INSERT INTO temperature_data(date, max_temperature, min_temperature, average_temperature) values ('2022-01-24', 12.99, 4.72, 6.03);\n",
      "INSERT INTO temperature_data(date, max_temperature, min_temperature, average_temperature) values ('2022-01-25', 7.93, 4.15, 5.25);\n",
      "INSERT INTO temperature_data(date, max_temperature, min_temperature, average_temperature) values ('2022-01-26', 13.3, 4.36, 6.31);\n",
      "INSERT INTO temperature_data(date, max_temperature, min_temperature, average_temperature) values ('2022-01-27', 9.01, 4.49, 5.51);\n",
      "INSERT INTO temperature_data(date, max_temperature, min_temperature, average_temperature) values ('2022-01-28', 9.69, 4.01, 5.38);\n",
      "INSERT INTO temperature_data(date, max_temperature, min_temperature, average_temperature) values ('2022-01-29', 7.66, 4.08, 5.36);\n",
      "INSERT INTO temperature_data(date, max_temperature, min_temperature, average_temperature) values ('2022-01-30', 14.01, 4.49, 5.55);\n",
      "INSERT INTO temperature_data(date, max_temperature, min_temperature, average_temperature) values ('2022-01-31', 10.1, 4.03, 5.47);\n",
      "INSERT INTO temperature_data(date, max_temperature, min_temperature, average_temperature) values ('2022-02-01', 15.57, 4.2, 5.81);\n",
      "INSERT INTO temperature_data(date, max_temperature, min_temperature, average_temperature) values ('2022-02-02', 11.77, 4.87, 6.43);\n",
      "INSERT INTO temperature_data(date, max_temperature, min_temperature, average_temperature) values ('2022-02-03', 13.59, 4.44, 6.18);\n",
      "INSERT INTO temperature_data(date, max_temperature, min_temperature, average_temperature) values ('2022-02-04', 9.43, 4.84, 6.04);\n",
      "INSERT INTO temperature_data(date, max_temperature, min_temperature, average_temperature) values ('2022-02-05', 8.85, 4.05, 5.26);\n",
      "INSERT INTO temperature_data(date, max_temperature, min_temperature, average_temperature) values ('2022-02-06', 13.19, 4.22, 5.77);\n",
      "INSERT INTO temperature_data(date, max_temperature, min_temperature, average_temperature) values ('2022-02-07', 9.99, 4.74, 6.1);\n",
      "INSERT INTO temperature_data(date, max_temperature, min_temperature, average_temperature) values ('2022-02-08', 13.47, 4.37, 6.18);\n",
      "INSERT INTO temperature_data(date, max_temperature, min_temperature, average_temperature) values ('2022-02-09', 14.98, 4.4, 6.2);\n",
      "INSERT INTO temperature_data(date, max_temperature, min_temperature, average_temperature) values ('2022-02-10', 10.96, 4.25, 6.24);\n",
      "INSERT INTO temperature_data(date, max_temperature, min_temperature, average_temperature) values ('2022-02-11', 11.52, 4.08, 6.03);\n",
      "INSERT INTO temperature_data(date, max_temperature, min_temperature, average_temperature) values ('2022-02-12', 6.96, 4.03, 5.32);\n",
      "INSERT INTO temperature_data(date, max_temperature, min_temperature, average_temperature) values ('2022-02-13', 11.45, 4.56, 6.29);\n",
      "INSERT INTO temperature_data(date, max_temperature, min_temperature, average_temperature) values ('2022-02-14', 13.98, 4.49, 5.71);\n",
      "INSERT INTO temperature_data(date, max_temperature, min_temperature, average_temperature) values ('2022-02-15', 7.72, 4.38, 6.19);\n",
      "INSERT INTO temperature_data(date, max_temperature, min_temperature, average_temperature) values ('2022-02-16', 10.48, 4.95, 6.12);\n",
      "INSERT INTO temperature_data(date, max_temperature, min_temperature, average_temperature) values ('2022-02-17', 13.5, 4.69, 6.59);\n",
      "INSERT INTO temperature_data(date, max_temperature, min_temperature, average_temperature) values ('2022-02-18', 12.2, 4.32, 6.25);\n",
      "INSERT INTO temperature_data(date, max_temperature, min_temperature, average_temperature) values ('2022-02-19', 15.39, 4.87, 6.39);\n",
      "INSERT INTO temperature_data(date, max_temperature, min_temperature, average_temperature) values ('2022-02-20', 11.81, 4.6, 6.32);\n",
      "INSERT INTO temperature_data(date, max_temperature, min_temperature, average_temperature) values ('2022-02-21', 15.22, 4.43, 5.97);\n",
      "INSERT INTO temperature_data(date, max_temperature, min_temperature, average_temperature) values ('2022-02-22', 8.4, 4.13, 5.88);\n",
      "INSERT INTO temperature_data(date, max_temperature, min_temperature, average_temperature) values ('2022-02-23', 7.73, 4.92, 6.43);\n",
      "INSERT INTO temperature_data(date, max_temperature, min_temperature, average_temperature) values ('2022-02-24', 7.61, 4.02, 5.41);\n",
      "INSERT INTO temperature_data(date, max_temperature, min_temperature, average_temperature) values ('2022-02-25', 12.7, 4.01, 5.63);\n",
      "INSERT INTO temperature_data(date, max_temperature, min_temperature, average_temperature) values ('2022-02-26', 8.12, 4.51, 5.59);\n",
      "INSERT INTO temperature_data(date, max_temperature, min_temperature, average_temperature) values ('2022-02-27', 12.21, 4.69, 6.08);\n",
      "INSERT INTO temperature_data(date, max_temperature, min_temperature, average_temperature) values ('2022-02-28', 16.03, 4.43, 6.1);\n",
      "INSERT INTO temperature_data(date, max_temperature, min_temperature, average_temperature) values ('2022-03-01', 8.18, 4.67, 5.74);\n",
      "INSERT INTO temperature_data(date, max_temperature, min_temperature, average_temperature) values ('2022-03-02', 8.14, 4.01, 5.76);\n",
      "INSERT INTO temperature_data(date, max_temperature, min_temperature, average_temperature) values ('2022-03-03', 12.85, 4.69, 5.86);\n",
      "INSERT INTO temperature_data(date, max_temperature, min_temperature, average_temperature) values ('2022-03-04', 14.91, 4.24, 5.32);\n",
      "INSERT INTO temperature_data(date, max_temperature, min_temperature, average_temperature) values ('2022-03-05', 12.88, 4.39, 5.51);\n",
      "INSERT INTO temperature_data(date, max_temperature, min_temperature, average_temperature) values ('2022-03-06', 11.76, 4.05, 5.36);\n",
      "INSERT INTO temperature_data(date, max_temperature, min_temperature, average_temperature) values ('2022-03-07', 11.38, 4.44, 5.78);\n",
      "INSERT INTO temperature_data(date, max_temperature, min_temperature, average_temperature) values ('2022-03-08', 16.05, 4.52, 6.21);\n",
      "INSERT INTO temperature_data(date, max_temperature, min_temperature, average_temperature) values ('2022-03-09', 10.64, 4.69, 6.64);\n",
      "INSERT INTO temperature_data(date, max_temperature, min_temperature, average_temperature) values ('2022-03-10', 11.44, 4.03, 5.8);\n",
      "INSERT INTO temperature_data(date, max_temperature, min_temperature, average_temperature) values ('2022-03-11', 9.38, 4.72, 6.71);\n",
      "INSERT INTO temperature_data(date, max_temperature, min_temperature, average_temperature) values ('2022-03-12', 14.32, 5.0, 6.51);\n",
      "INSERT INTO temperature_data(date, max_temperature, min_temperature, average_temperature) values ('2022-03-13', 16.08, 4.25, 6.12);\n",
      "INSERT INTO temperature_data(date, max_temperature, min_temperature, average_temperature) values ('2022-03-14', 15.06, 4.5, 6.2);\n",
      "INSERT INTO temperature_data(date, max_temperature, min_temperature, average_temperature) values ('2022-03-15', 8.83, 4.86, 6.62);\n",
      "INSERT INTO temperature_data(date, max_temperature, min_temperature, average_temperature) values ('2022-03-16', 13.03, 4.96, 6.12);\n",
      "INSERT INTO temperature_data(date, max_temperature, min_temperature, average_temperature) values ('2022-03-17', 12.67, 4.04, 5.39);\n",
      "INSERT INTO temperature_data(date, max_temperature, min_temperature, average_temperature) values ('2022-03-18', 8.39, 4.37, 5.71);\n",
      "INSERT INTO temperature_data(date, max_temperature, min_temperature, average_temperature) values ('2022-03-19', 12.15, 4.26, 5.51);\n",
      "INSERT INTO temperature_data(date, max_temperature, min_temperature, average_temperature) values ('2022-03-20', 10.98, 4.55, 6.38);\n",
      "INSERT INTO temperature_data(date, max_temperature, min_temperature, average_temperature) values ('2022-03-21', 15.01, 4.85, 6.02);\n",
      "INSERT INTO temperature_data(date, max_temperature, min_temperature, average_temperature) values ('2022-03-22', 8.74, 4.48, 6.05);\n",
      "INSERT INTO temperature_data(date, max_temperature, min_temperature, average_temperature) values ('2022-03-23', 9.4, 4.96, 6.31);\n",
      "INSERT INTO temperature_data(date, max_temperature, min_temperature, average_temperature) values ('2022-03-24', 12.85, 4.9, 6.32);\n",
      "INSERT INTO temperature_data(date, max_temperature, min_temperature, average_temperature) values ('2022-03-25', 11.42, 4.51, 6.2);\n",
      "INSERT INTO temperature_data(date, max_temperature, min_temperature, average_temperature) values ('2022-03-26', 14.98, 4.07, 5.17);\n",
      "INSERT INTO temperature_data(date, max_temperature, min_temperature, average_temperature) values ('2022-03-27', 7.91, 4.55, 6.2);\n",
      "INSERT INTO temperature_data(date, max_temperature, min_temperature, average_temperature) values ('2022-03-28', 11.21, 4.84, 6.83);\n",
      "INSERT INTO temperature_data(date, max_temperature, min_temperature, average_temperature) values ('2022-03-29', 7.27, 4.02, 5.81);\n",
      "INSERT INTO temperature_data(date, max_temperature, min_temperature, average_temperature) values ('2022-03-30', 11.9, 4.43, 6.35);\n",
      "INSERT INTO temperature_data(date, max_temperature, min_temperature, average_temperature) values ('2022-03-31', 15.05, 4.11, 5.34);\n",
      "INSERT INTO temperature_data(date, max_temperature, min_temperature, average_temperature) values ('2022-04-01', 15.14, 4.25, 5.29);\n",
      "INSERT INTO temperature_data(date, max_temperature, min_temperature, average_temperature) values ('2022-04-02', 9.71, 4.63, 5.65);\n",
      "INSERT INTO temperature_data(date, max_temperature, min_temperature, average_temperature) values ('2022-04-03', 13.78, 4.11, 5.66);\n",
      "INSERT INTO temperature_data(date, max_temperature, min_temperature, average_temperature) values ('2022-04-04', 10.03, 4.73, 5.9);\n"
     ]
    }
   ],
   "source": [
    "while(True):\n",
    "    minTemperature = random.uniform(4, 5)\n",
    "    averageTemperature = random.uniform(1, 2) + minTemperature\n",
    "    maxTemperature = random.uniform(1, 10) + averageTemperature\n",
    "    \n",
    "    print(query.format(tableName = TABLENAME,\n",
    "                       date = date.strftime(\"%Y-%m-%d\"), \n",
    "                       maxTemperature = round(maxTemperature,2), \n",
    "                       minTemperature = round(minTemperature,2), \n",
    "                       averageTemperature = round(averageTemperature,2)))\n",
    "    \n",
    "    date += datetime.timedelta(days=1)\n",
    "    if(date.strftime(\"%Y-%m-%d\") == datetime.datetime.now().strftime(\"%Y-%m-%d\")):\n",
    "        date = datetime.datetime(2022,1,1)\n",
    "        break"
   ]
  },
  {
   "cell_type": "code",
   "execution_count": null,
   "id": "06ca705c",
   "metadata": {},
   "outputs": [],
   "source": []
  },
  {
   "cell_type": "code",
   "execution_count": null,
   "id": "99a780b8",
   "metadata": {},
   "outputs": [],
   "source": []
  }
 ],
 "metadata": {
  "kernelspec": {
   "display_name": "base",
   "language": "python",
   "name": "base"
  },
  "language_info": {
   "codemirror_mode": {
    "name": "ipython",
    "version": 3
   },
   "file_extension": ".py",
   "mimetype": "text/x-python",
   "name": "python",
   "nbconvert_exporter": "python",
   "pygments_lexer": "ipython3",
   "version": "3.9.4"
  }
 },
 "nbformat": 4,
 "nbformat_minor": 5
}
